{
 "cells": [
  {
   "cell_type": "code",
   "execution_count": 18,
   "id": "291bf943",
   "metadata": {},
   "outputs": [
    {
     "name": "stdout",
     "output_type": "stream",
     "text": [
      "Note: you may need to restart the kernel to use updated packages.\n"
     ]
    }
   ],
   "source": [
    "pip install streamlit groq pdfplumber python-docx -q\n"
   ]
  },
  {
   "cell_type": "code",
   "execution_count": 19,
   "id": "e7c3b417",
   "metadata": {},
   "outputs": [
    {
     "name": "stdout",
     "output_type": "stream",
     "text": [
      "Overwriting groq_llm.py\n"
     ]
    }
   ],
   "source": [
    "%%writefile groq_llm.py\n",
    "import os\n",
    "import requests\n",
    "from dotenv import load_dotenv\n",
    "\n",
    "load_dotenv()\n",
    "api_key = os.getenv(\"GROQ_API_KEY\")\n",
    "if not api_key:\n",
    "    raise ValueError(\"GROQ_API_KEY not found in environment.\")\n",
    "\n",
    "def ask_groq(query, context):\n",
    "    url = \"https://api.groq.com/openai/v1/chat/completions\"\n",
    "    headers = {\n",
    "        \"Authorization\": f\"Bearer {api_key}\",\n",
    "        \"Content-Type\": \"application/json\"\n",
    "    }\n",
    "    prompt = f\"\"\"\n",
    "You are a financial analyst assistant. The user may ask about specific section numbers or bullet points (e.g. '5.3.3', 'Section 6', etc.).\n",
    "Use the document structure to find and answer the question clearly.\n",
    "\n",
    "Context:\n",
    "{context}\n",
    "\n",
    "Question:\n",
    "{query}\n",
    "\n",
    "If the user references a section number or pointer, locate the relevant content and explain it step-by-step.\n",
    "\"\"\"\n",
    "    data = {\n",
    "        \"model\": \"llama3-8b-8192\",\n",
    "        \"messages\": [\n",
    "            {\"role\": \"system\", \"content\": \"You are a helpful assistant that answers questions based on context.\"},\n",
    "            {\"role\": \"user\", \"content\": prompt}\n",
    "        ]\n",
    "    }\n",
    "    response = requests.post(url, headers=headers, json=data)\n",
    "    if response.status_code == 200:\n",
    "        return response.json()[\"choices\"][0][\"message\"][\"content\"]\n",
    "    else:\n",
    "        raise Exception(f\"Groq API Error: {response.status_code} - {response.text}\")\n"
   ]
  },
  {
   "cell_type": "code",
   "execution_count": 20,
   "id": "b55e4562",
   "metadata": {},
   "outputs": [
    {
     "name": "stdout",
     "output_type": "stream",
     "text": [
      "Overwriting doc_utils.py\n"
     ]
    }
   ],
   "source": [
    "%%writefile doc_utils.py\n",
    "import pdfplumber\n",
    "import docx\n",
    "import re\n",
    "\n",
    "def extract_text_from_pdf(uploaded_file):\n",
    "    text = \"\"\n",
    "    with pdfplumber.open(uploaded_file) as pdf:\n",
    "        for page in pdf.pages:\n",
    "            page_text = page.extract_text()\n",
    "            if page_text:\n",
    "                text += \"\\n--- Page Break ---\\n\" + page_text\n",
    "    return text.strip()\n",
    "\n",
    "def extract_text_from_docx(uploaded_file):\n",
    "    doc = docx.Document(uploaded_file)\n",
    "    return \"\\n\".join([para.text for para in doc.paragraphs])\n",
    "\n",
    "def extract_headings(text):\n",
    "    headings = re.findall(r'(^\\d+(\\.\\d+)*\\s+.+)', text, re.MULTILINE)\n",
    "    return [h[0] for h in headings]\n"
   ]
  },
  {
   "cell_type": "code",
   "execution_count": null,
   "id": "d4c8fc4c",
   "metadata": {},
   "outputs": [
    {
     "name": "stdout",
     "output_type": "stream",
     "text": [
      "Overwriting app.py\n"
     ]
    }
   ],
   "source": [
    "%%writefile app.py\n",
    "import streamlit as st\n",
    "from doc_utils import extract_text_from_pdf, extract_text_from_docx, extract_headings\n",
    "from groq_llm import ask_groq\n",
    "\n",
    "st.set_page_config(page_title=\"Doc Chatbot \", layout=\"centered\")\n",
    "st.title(\"📄🤖 Structured Document Q&A \")\n",
    "\n",
    "uploaded_file = st.file_uploader(\"Upload a PDF or DOCX file\", type=[\"pdf\", \"docx\"])\n",
    "\n",
    "if uploaded_file:\n",
    "    if uploaded_file.type == \"application/pdf\":\n",
    "        document_text = extract_text_from_pdf(uploaded_file)\n",
    "    elif uploaded_file.type == \"application/vnd.openxmlformats-officedocument.wordprocessingml.document\":\n",
    "        document_text = extract_text_from_docx(uploaded_file)\n",
    "    else:\n",
    "        st.error(\"Unsupported file type.\")\n",
    "        st.stop()\n",
    "\n",
    "    st.success(\"✅ File uploaded and processed!\")\n",
    "\n",
    "\n",
    "\n",
    "    query = st.text_input(\"Ask a question based on the uploaded document:\")\n",
    "    if query:\n",
    "        with st.spinner(\"Getting answer \"):\n",
    "            chunks = [document_text[i:i+3000] for i in range(0, len(document_text), 3000)]\n",
    "            answers = [ask_groq(query, chunk) for chunk in chunks[:3]]\n",
    "            final_answer = \"\\n---\\n\".join(answers)\n",
    "            st.markdown(\"### 📢 Answer\")\n",
    "            st.write(final_answer)\n"
   ]
  }
 ],
 "metadata": {
  "kernelspec": {
   "display_name": "Python 3",
   "language": "python",
   "name": "python3"
  },
  "language_info": {
   "codemirror_mode": {
    "name": "ipython",
    "version": 3
   },
   "file_extension": ".py",
   "mimetype": "text/x-python",
   "name": "python",
   "nbconvert_exporter": "python",
   "pygments_lexer": "ipython3",
   "version": "3.11.9"
  }
 },
 "nbformat": 4,
 "nbformat_minor": 5
}
